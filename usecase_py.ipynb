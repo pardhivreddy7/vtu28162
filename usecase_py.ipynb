{
  "nbformat": 4,
  "nbformat_minor": 0,
  "metadata": {
    "colab": {
      "provenance": [],
      "authorship_tag": "ABX9TyP4V0pl1iFWfouODjX26RX+",
      "include_colab_link": true
    },
    "kernelspec": {
      "name": "python3",
      "display_name": "Python 3"
    },
    "language_info": {
      "name": "python"
    }
  },
  "cells": [
    {
      "cell_type": "markdown",
      "metadata": {
        "id": "view-in-github",
        "colab_type": "text"
      },
      "source": [
        "<a href=\"https://colab.research.google.com/github/pardhivreddy7/vtu28162/blob/main/usecase_py.ipynb\" target=\"_parent\"><img src=\"https://colab.research.google.com/assets/colab-badge.svg\" alt=\"Open In Colab\"/></a>"
      ]
    },
    {
      "cell_type": "code",
      "execution_count": null,
      "metadata": {
        "id": "zlzlzwWTSLA1"
      },
      "outputs": [],
      "source": [
        "import random\n",
        "\n",
        "# ----- Game setup -----\n",
        "def draw_card():\n",
        "    \"\"\"Draw a random card from the deck.\"\"\"\n",
        "    cards = ['2','3','4','5','6','7','8','9','10','J','Q','K','A']\n",
        "    return random.choice(cards)\n",
        "\n",
        "def card_value(card):\n",
        "    \"\"\"Return the value of a card.\"\"\"\n",
        "    if card in ['J','Q','K']:\n",
        "        return 10\n",
        "    elif card == 'A':\n",
        "        return 11\n",
        "    else:\n",
        "        return int(card)\n",
        "\n",
        "def hand_value(hand):\n",
        "    \"\"\"Compute total hand value with Ace adjustment.\"\"\"\n",
        "    total = sum(card_value(c) for c in hand)\n",
        "    aces = hand.count('A')\n",
        "    while total > 21 and aces:\n",
        "        total -= 10\n",
        "        aces -= 1\n",
        "    return total\n",
        "\n",
        "# ----- Game simulation -----\n",
        "def play_blackjack(strategy_threshold):\n",
        "    \"\"\"Simulate one round of blackjack with a given hit/stand threshold.\"\"\"\n",
        "    player = [draw_card(), draw_card()]\n",
        "    dealer = [draw_card(), draw_card()]\n",
        "\n",
        "    # Player plays\n",
        "    while hand_value(player) < strategy_threshold:\n",
        "        player.append(draw_card())\n",
        "    player_total = hand_value(player)\n",
        "    if player_total > 21:\n",
        "        return 0  # player busts\n",
        "\n",
        "    # Dealer plays (standard rule)\n",
        "    while hand_value(dealer) < 17:\n",
        "        dealer.append(draw_card())\n",
        "    dealer_total = hand_value(dealer)\n",
        "\n",
        "    # Determine winner\n",
        "    if dealer_total > 21 or player_total > dealer_total:\n",
        "        return 1  # player wins\n",
        "    elif player_total == dealer_total:\n",
        "        return 0.5  # draw\n",
        "    else:\n",
        "        return 0  # loss\n",
        "\n",
        "# ----- Strategy testing -----\n",
        "def find_best_strategy(rounds=50000):\n",
        "    \"\"\"Test multiple thresholds and find the best win rate.\"\"\"\n",
        "    results = {}\n",
        "    for threshold in range(12, 21):  # test stand thresholds from 12 to 20\n",
        "        wins = sum(play_blackjack(threshold) for _ in range(rounds))\n",
        "        win_rate = wins / rounds\n",
        "        results[threshold] = win_rate\n",
        "        print(f\"Threshold {threshold}: Win rate = {win_rate:.3f}\")\n",
        "\n",
        "    best_threshold = max(results, key=results.get)\n",
        "    print(f\"\\nBest strategy: Stand at {best_threshold} (Win rate = {results[best_threshold]:.3f})\")\n",
        "    return results\n",
        "\n",
        "# Run the simulation\n",
        "find_best_strategy(20000)\n"
      ]
    }
  ]
}